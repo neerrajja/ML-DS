{
 "cells": [
  {
   "cell_type": "code",
   "execution_count": 2,
   "id": "809a6399",
   "metadata": {},
   "outputs": [
    {
     "name": "stdout",
     "output_type": "stream",
     "text": [
      "\n",
      "\n",
      "\n",
      "\n",
      "Before Sorting\n",
      "--------------\n",
      "   RollNo      name Department Semester\n",
      "0       3  vineesha      maths       s1\n",
      "1       2    gopika    english       s2\n",
      "2       5     bibin        CSE       s1\n",
      "3       1   haritha       MECH       s2\n",
      "4       4     anuja        MBA       s1\n",
      "\n",
      "\n",
      "\n",
      "After Sorting\n",
      "--------------\n"
     ]
    },
    {
     "data": {
      "text/html": [
       "<div>\n",
       "<style scoped>\n",
       "    .dataframe tbody tr th:only-of-type {\n",
       "        vertical-align: middle;\n",
       "    }\n",
       "\n",
       "    .dataframe tbody tr th {\n",
       "        vertical-align: top;\n",
       "    }\n",
       "\n",
       "    .dataframe thead th {\n",
       "        text-align: right;\n",
       "    }\n",
       "</style>\n",
       "<table border=\"1\" class=\"dataframe\">\n",
       "  <thead>\n",
       "    <tr style=\"text-align: right;\">\n",
       "      <th></th>\n",
       "      <th>RollNo</th>\n",
       "      <th>name</th>\n",
       "      <th>Department</th>\n",
       "      <th>Semester</th>\n",
       "    </tr>\n",
       "  </thead>\n",
       "  <tbody>\n",
       "    <tr>\n",
       "      <th>4</th>\n",
       "      <td>4</td>\n",
       "      <td>anuja</td>\n",
       "      <td>MBA</td>\n",
       "      <td>s1</td>\n",
       "    </tr>\n",
       "    <tr>\n",
       "      <th>2</th>\n",
       "      <td>5</td>\n",
       "      <td>bibin</td>\n",
       "      <td>CSE</td>\n",
       "      <td>s1</td>\n",
       "    </tr>\n",
       "    <tr>\n",
       "      <th>1</th>\n",
       "      <td>2</td>\n",
       "      <td>gopika</td>\n",
       "      <td>english</td>\n",
       "      <td>s2</td>\n",
       "    </tr>\n",
       "    <tr>\n",
       "      <th>3</th>\n",
       "      <td>1</td>\n",
       "      <td>haritha</td>\n",
       "      <td>MECH</td>\n",
       "      <td>s2</td>\n",
       "    </tr>\n",
       "    <tr>\n",
       "      <th>0</th>\n",
       "      <td>3</td>\n",
       "      <td>vineesha</td>\n",
       "      <td>maths</td>\n",
       "      <td>s1</td>\n",
       "    </tr>\n",
       "  </tbody>\n",
       "</table>\n",
       "</div>"
      ],
      "text/plain": [
       "   RollNo      name Department Semester\n",
       "4       4     anuja        MBA       s1\n",
       "2       5     bibin        CSE       s1\n",
       "1       2    gopika    english       s2\n",
       "3       1   haritha       MECH       s2\n",
       "0       3  vineesha      maths       s1"
      ]
     },
     "execution_count": 2,
     "metadata": {},
     "output_type": "execute_result"
    }
   ],
   "source": [
    "import pandas as pd\n",
    "import numpy as np\n",
    "\n",
    "student = {'RollNo':[3,2,5,1,4],\n",
    "           'name':['vineesha','gopika','bibin','haritha','anuja'],\n",
    "          'Department':['maths','english','CSE','MECH','MBA'],\n",
    "          'Semester':['s1','s2','s1','s2','s1']}\n",
    "df=pd.DataFrame(student)\n",
    "print(\"\\n\\n\\n\\nBefore Sorting\")\n",
    "print(\"--------------\")\n",
    "print(df)\n",
    "print(\"\\n\\n\\nAfter Sorting\")\n",
    "print(\"--------------\")\n",
    "df.sort_values(by=['name','RollNo'], ascending=True)\n"
   ]
  },
  {
   "cell_type": "code",
   "execution_count": null,
   "id": "441262ec",
   "metadata": {},
   "outputs": [],
   "source": []
  }
 ],
 "metadata": {
  "kernelspec": {
   "display_name": "Python 3 (ipykernel)",
   "language": "python",
   "name": "python3"
  },
  "language_info": {
   "codemirror_mode": {
    "name": "ipython",
    "version": 3
   },
   "file_extension": ".py",
   "mimetype": "text/x-python",
   "name": "python",
   "nbconvert_exporter": "python",
   "pygments_lexer": "ipython3",
   "version": "3.9.12"
  }
 },
 "nbformat": 4,
 "nbformat_minor": 5
}
