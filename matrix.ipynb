{
 "cells": [
  {
   "cell_type": "code",
   "execution_count": 1,
   "id": "1e0e7a2d",
   "metadata": {},
   "outputs": [
    {
     "name": "stdout",
     "output_type": "stream",
     "text": [
      "type: <class 'numpy.ndarray'>\n",
      "shape: 3\n",
      "1 2 3\n",
      "[5 2 3]\n",
      "\n",
      "Shape of b %s (2, 3)\n",
      "1 2 4\n",
      "All zeros matrix: \n",
      "[[0. 0.]\n",
      " [0. 0.]]\n",
      "All ones matrix: \n",
      " [[1. 1.]]\n",
      "\n",
      "Identity matrix: \n",
      "[[1. 0.]\n",
      " [0. 1.]]\n",
      "\n",
      "Random matrix: \n",
      " [[0.38106059 0.21483924]\n",
      " [0.98064876 0.02484344]]\n",
      "vectorized sum example \n",
      "\n",
      "x: \n",
      "[[1 2]\n",
      " [3 4]]\n",
      "sum:10\n",
      "sum axis=0:[4 6]\n",
      "sum axis=0: [3 7]\n",
      "dot product:-1724114088\n",
      "\n",
      "\n",
      "Outer product:[[       0        0        0 ...        0        0        0]\n",
      " [       0        1        2 ...     9997     9998     9999]\n",
      " [       0        2        4 ...    19994    19996    19998]\n",
      " ...\n",
      " [       0     9997    19994 ... 99940009 99950006 99960003]\n",
      " [       0     9998    19996 ... 99950006 99960004 99970002]\n",
      " [       0     9999    19998 ... 99960003 99970002 99980001]] \n",
      "\n",
      "\n",
      "Element wide product:[       0        1        4 ... 99940009 99960004 99980001] \n",
      "\n"
     ]
    }
   ],
   "source": [
    "import numpy as np\n",
    "a=np.array([1,2,3])\n",
    "print(\"type: %s\" %type(a))\n",
    "print(\"shape: %s\" %a.shape)\n",
    "print(a[0],a[1],a[2])\n",
    "a[0]=5\n",
    "print(a)\n",
    "b=np.array([[1,2,3],[4,5,6]])\n",
    "print(\"\\nShape of b %s\",b.shape)\n",
    "print(b[0,0],b[0,1],b[1,0])\n",
    "a=np.zeros((2,2))\n",
    "print(\"All zeros matrix: \\n%s\"%a)\n",
    "b=np.ones((1,2))\n",
    "print(\"All ones matrix: \\n %s\"%b)\n",
    "d=np.eye(2)\n",
    "print(\"\\nIdentity matrix: \\n%s\"%d)\n",
    "e=np.random.random((2,2))\n",
    "print(\"\\nRandom matrix: \\n %s\"%e)\n",
    "print(\"vectorized sum example \\n\")\n",
    "x=np.array([[1,2],[3,4]])\n",
    "print(\"x: \\n%s\"%x)\n",
    "print(\"sum:%s\" %np.sum(x))\n",
    "print(\"sum axis=0:%s\"%np.sum(x,axis=0))\n",
    "print(\"sum axis=0: %s\"%np.sum(x,axis=1))\n",
    "a=np.arange(10000)\n",
    "b=np.arange(10000)\n",
    "dp=np.dot(a,b)\n",
    "print(\"dot product:%s\\n\"%dp)\n",
    "op=np.outer(a,b)\n",
    "print(\"\\nOuter product:%s \\n\"%op)\n",
    "ep=np.multiply(a,b)\n",
    "print(\"\\nElement wide product:%s \\n\"%ep)"
   ]
  },
  {
   "cell_type": "code",
   "execution_count": null,
   "id": "91f91ba4",
   "metadata": {},
   "outputs": [],
   "source": []
  }
 ],
 "metadata": {
  "kernelspec": {
   "display_name": "Python 3 (ipykernel)",
   "language": "python",
   "name": "python3"
  },
  "language_info": {
   "codemirror_mode": {
    "name": "ipython",
    "version": 3
   },
   "file_extension": ".py",
   "mimetype": "text/x-python",
   "name": "python",
   "nbconvert_exporter": "python",
   "pygments_lexer": "ipython3",
   "version": "3.9.12"
  }
 },
 "nbformat": 4,
 "nbformat_minor": 5
}
