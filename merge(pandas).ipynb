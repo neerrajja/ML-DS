{
 "cells": [
  {
   "cell_type": "code",
   "execution_count": 1,
   "id": "03e9b37d",
   "metadata": {},
   "outputs": [
    {
     "name": "stdout",
     "output_type": "stream",
     "text": [
      "   customer id  gender  age  annual income  spending score\n",
      "0            1    Male   20             10              30\n",
      "1            2  Female   21             20              50\n",
      "2            3  Female   19             30              58\n",
      "3            4    Male   18             10              84\n",
      "4            5    Male   25             25              90\n",
      "5            6  Female   26             60              65\n",
      "6            7    Male   32             70              32\n",
      "7            8    Male   41             15              46\n",
      "8            9  Female   20             21              12\n",
      "9           10    Male   19             22              56\n",
      "   customer id  gender  age  annual income  spending score\n",
      "0           11    Male   23             10              38\n",
      "1           12  Female   33             20              59\n",
      "2           13  Female   19             30              48\n",
      "3           14    Male   18             10              99\n",
      "4           15    Male   25             25              94\n",
      "5           16  Female   26             60              66\n",
      "6           17    Male   32             70              44\n",
      "7           18    Male   41             15              51\n",
      "8           19  Female   20             21              12\n",
      "9           20    Male   19             22              56\n",
      "    Unnamed: 0  customer id  gender  age  annual income  spending score\n",
      "0            0            1    Male   20             10              30\n",
      "1            1            2  Female   21             20              50\n",
      "2            2            3  Female   19             30              58\n",
      "3            3            4    Male   18             10              84\n",
      "4            4            5    Male   25             25              90\n",
      "5            5            6  Female   26             60              65\n",
      "6            6            7    Male   32             70              32\n",
      "7            7            8    Male   41             15              46\n",
      "8            8            9  Female   20             21              12\n",
      "9            9           10    Male   19             22              56\n",
      "10           0           11    Male   23             10              38\n",
      "11           1           12  Female   33             20              59\n",
      "12           2           13  Female   19             30              48\n",
      "13           3           14    Male   18             10              99\n",
      "14           4           15    Male   25             25              94\n",
      "15           5           16  Female   26             60              66\n",
      "16           6           17    Male   32             70              44\n",
      "17           7           18    Male   41             15              51\n",
      "18           8           19  Female   20             21              12\n",
      "19           9           20    Male   19             22              56\n"
     ]
    }
   ],
   "source": [
    "import pandas as pd\n",
    "data_dict1={'customer id':[1,2,3,4,5,6,7,8,9,10],\n",
    "            'gender':[\"Male\",\"Female\",\"Female\",\"Male\",\"Male\",\"Female\",\"Male\",\"Male\",\"Female\",\"Male\"],\n",
    "            'age':[20,21,19,18,25,26,32,41,20,19],\n",
    "            'annual income':[10,20,30,10,25,60,70,15,21,22],\n",
    "            'spending score':[30,50,58,84,90,65,32,46,12,56]}\n",
    "data1=pd.DataFrame(data_dict1)\n",
    "data1.to_csv(\"Customers1.csv\")\n",
    "print(data1)\n",
    "data_dict2={'customer id':[11,12,13,14,15,16,17,18,19,20],\n",
    "            'gender':[\"Male\",\"Female\",\"Female\",\"Male\",\"Male\",\"Female\",\"Male\",\"Male\",\"Female\",\"Male\"],\n",
    "            'age':[23,33,19,18,25,26,32,41,20,19],\n",
    "            'annual income':[10,20,30,10,25,60,70,15,21,22],\n",
    "            'spending score':[38,59,48,99,94,66,44,51,12,56]}\n",
    "data2=pd.DataFrame(data_dict2)\n",
    "data2.to_csv(\"Customers2.csv\")\n",
    "print(data2)\n",
    "df=pd.concat(map(pd.read_csv,['Customers1.csv','Customers2.csv']),ignore_index=True)\n",
    "print(df)"
   ]
  },
  {
   "cell_type": "code",
   "execution_count": null,
   "id": "f2f6facc",
   "metadata": {},
   "outputs": [],
   "source": []
  }
 ],
 "metadata": {
  "kernelspec": {
   "display_name": "Python 3 (ipykernel)",
   "language": "python",
   "name": "python3"
  },
  "language_info": {
   "codemirror_mode": {
    "name": "ipython",
    "version": 3
   },
   "file_extension": ".py",
   "mimetype": "text/x-python",
   "name": "python",
   "nbconvert_exporter": "python",
   "pygments_lexer": "ipython3",
   "version": "3.9.12"
  }
 },
 "nbformat": 4,
 "nbformat_minor": 5
}
